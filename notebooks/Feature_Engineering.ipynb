{
 "cells": [
  {
   "cell_type": "markdown",
   "metadata": {},
   "source": [
    "### 5. Feature Engineering and Improvement\n",
    "#### Task 5: Feature Engineering"
   ]
  },
  {
   "cell_type": "markdown",
   "metadata": {},
   "source": [
    "**Load Data and Baseline Model**"
   ]
  },
  {
   "cell_type": "code",
   "execution_count": 17,
   "metadata": {},
   "outputs": [
    {
     "name": "stdout",
     "output_type": "stream",
     "text": [
      "Early stopping params: {'early_stopping_rounds': 10, 'eval_metric': 'rmse'}\n"
     ]
    }
   ],
   "source": [
    "import joblib\n",
    "import pandas as pd\n",
    "import numpy as np\n",
    "import xgboost as xgb\n",
    "from sklearn.metrics import root_mean_squared_error\n",
    "\n",
    "# Load processed data and model\n",
    "data = joblib.load(\"../data/processed_data.pkl\")\n",
    "model_data = joblib.load(\"../models/best_model.pkl\")  # Assuming this is the saved XGBoost\n",
    "\n",
    "# Extract components if saved as dictionary (recommended format)\n",
    "if isinstance(model_data, dict):\n",
    "    model = model_data['model']\n",
    "    best_params = model_data['params']\n",
    "else:\n",
    "    model = model_data\n",
    "    best_params = model.get_params()\n",
    "\n",
    "# Original features\n",
    "original_features = ['RM', 'LSTAT', 'PTRATIO', 'INDUS', 'TAX', 'RAD_4.0', 'CHAS']\n",
    "X_train, y_train = data['X_train'][original_features], data['y_train']\n",
    "X_test, y_test = data['X_test'][original_features], data['y_test']\n",
    "\n",
    "# Verify early stopping parameters\n",
    "print(\"Early stopping params:\", {k: v for k, v in best_params.items() \n",
    "                                if k in ['early_stopping_rounds', 'eval_metric']})"
   ]
  },
  {
   "cell_type": "markdown",
   "metadata": {},
   "source": [
    "**Feature Creation**"
   ]
  },
  {
   "cell_type": "code",
   "execution_count": 18,
   "metadata": {},
   "outputs": [],
   "source": [
    "def create_features(df):\n",
    "    \"\"\"Create new features while preserving original columns\"\"\"\n",
    "    df = df.copy()\n",
    "    \n",
    "    # 1. Interaction terms\n",
    "    df['ROOMS_PER_TAX'] = df['RM'] / (df['TAX'] + 1e-6)\n",
    "    df['LSTAT_RM_INTERACTION'] = df['LSTAT'] * df['RM']\n",
    "    \n",
    "    # 2. Non-linear transforms\n",
    "    df['LSTAT_SQUARED'] = df['LSTAT'] ** 2\n",
    "    \n",
    "    # 3. Binning (XGBoost handles well)\n",
    "    df['RM_BINNED'] = pd.cut(df['RM'], bins=5, labels=False)\n",
    "    \n",
    "    return df\n",
    "\n",
    "# Apply to train/test\n",
    "X_train_new = create_features(X_train)\n",
    "X_test_new = create_features(X_test)\n"
   ]
  },
  {
   "cell_type": "markdown",
   "metadata": {},
   "source": [
    "**Feature Evaluation**"
   ]
  },
  {
   "cell_type": "code",
   "execution_count": 19,
   "metadata": {},
   "outputs": [
    {
     "name": "stdout",
     "output_type": "stream",
     "text": [
      "[0]\tvalidation_0-rmse:6.59109\n",
      "[1]\tvalidation_0-rmse:6.09231\n",
      "[2]\tvalidation_0-rmse:5.66884\n",
      "[3]\tvalidation_0-rmse:5.31730\n",
      "[4]\tvalidation_0-rmse:5.00687\n"
     ]
    },
    {
     "name": "stdout",
     "output_type": "stream",
     "text": [
      "[5]\tvalidation_0-rmse:4.71203\n",
      "[6]\tvalidation_0-rmse:4.47469\n",
      "[7]\tvalidation_0-rmse:4.22984\n",
      "[8]\tvalidation_0-rmse:4.05078\n",
      "[9]\tvalidation_0-rmse:3.85484\n",
      "[10]\tvalidation_0-rmse:3.73278\n",
      "[11]\tvalidation_0-rmse:3.61718\n",
      "[12]\tvalidation_0-rmse:3.50484\n",
      "[13]\tvalidation_0-rmse:3.41756\n",
      "[14]\tvalidation_0-rmse:3.33890\n",
      "[15]\tvalidation_0-rmse:3.28851\n",
      "[16]\tvalidation_0-rmse:3.24337\n",
      "[17]\tvalidation_0-rmse:3.20162\n",
      "[18]\tvalidation_0-rmse:3.17585\n",
      "[19]\tvalidation_0-rmse:3.14975\n",
      "[20]\tvalidation_0-rmse:3.12926\n",
      "[21]\tvalidation_0-rmse:3.10057\n",
      "[22]\tvalidation_0-rmse:3.05747\n",
      "[23]\tvalidation_0-rmse:3.05611\n",
      "[24]\tvalidation_0-rmse:3.04834\n",
      "[25]\tvalidation_0-rmse:3.02941\n",
      "[26]\tvalidation_0-rmse:3.01381\n",
      "[27]\tvalidation_0-rmse:3.00082\n",
      "[28]\tvalidation_0-rmse:2.99970\n",
      "[29]\tvalidation_0-rmse:2.99845\n",
      "[30]\tvalidation_0-rmse:2.99042\n",
      "[31]\tvalidation_0-rmse:2.98685\n",
      "[32]\tvalidation_0-rmse:2.98297\n",
      "[33]\tvalidation_0-rmse:2.98202\n",
      "[34]\tvalidation_0-rmse:2.98656\n",
      "[35]\tvalidation_0-rmse:2.98741\n",
      "[36]\tvalidation_0-rmse:2.98580\n",
      "[37]\tvalidation_0-rmse:2.98364\n",
      "[38]\tvalidation_0-rmse:2.98551\n",
      "[39]\tvalidation_0-rmse:2.98703\n",
      "[40]\tvalidation_0-rmse:2.98937\n",
      "[41]\tvalidation_0-rmse:2.99098\n",
      "[42]\tvalidation_0-rmse:2.99397\n",
      "\n",
      "Test RMSE with new features: 2.9820\n"
     ]
    }
   ],
   "source": [
    "# Update parameters (preserve original but adjust for new features)\n",
    "params = {\n",
    "    **best_params,\n",
    "    'early_stopping_rounds': 10,  # Keep early stopping\n",
    "    'eval_metric': 'rmse'\n",
    "}\n",
    "\n",
    "# Initialize and train\n",
    "xgb_model = xgb.XGBRegressor(**params)\n",
    "xgb_model.fit(\n",
    "    X_train_new, y_train,\n",
    "    eval_set=[(X_test_new, y_test)],  # Required for early stopping\n",
    "    verbose=True  # Shows training progress\n",
    ")\n",
    "\n",
    "# Evaluate\n",
    "y_pred1 = xgb_model.predict(X_test_new)\n",
    "rmse = root_mean_squared_error(y_test, y_pred1)\n",
    "print(f\"\\nTest RMSE with new features: {rmse:.4f}\")"
   ]
  },
  {
   "cell_type": "markdown",
   "metadata": {},
   "source": [
    "**Feature Importance Analysis**\n"
   ]
  },
  {
   "cell_type": "code",
   "execution_count": 20,
   "metadata": {},
   "outputs": [
    {
     "name": "stdout",
     "output_type": "stream",
     "text": [
      "   Feature  Importance\n",
      "1    LSTAT    0.394299\n",
      "0       RM    0.386335\n",
      "2  PTRATIO    0.125500\n",
      "4      TAX    0.056115\n",
      "3    INDUS    0.032636\n",
      "5  RAD_4.0    0.005115\n",
      "6     CHAS    0.000000\n"
     ]
    }
   ],
   "source": [
    "if hasattr(xgb_model, 'feature_importances_'):\n",
    "    importance = pd.DataFrame({\n",
    "        'Feature': X_test.columns,\n",
    "        'Importance': model.feature_importances_\n",
    "    }).sort_values('Importance', ascending=False)\n",
    "print(importance)"
   ]
  },
  {
   "cell_type": "code",
   "execution_count": 21,
   "metadata": {},
   "outputs": [
    {
     "data": {
      "text/plain": [
       "<Figure size 1200x600 with 0 Axes>"
      ]
     },
     "metadata": {},
     "output_type": "display_data"
    },
    {
     "data": {
      "image/png": "[encoded data removed]",
      "text/plain": [
       "<Figure size 640x480 with 1 Axes>"
      ]
     },
     "metadata": {},
     "output_type": "display_data"
    }
   ],
   "source": [
    "import matplotlib.pyplot as plt\n",
    "\n",
    "# Native XGBoost importance\n",
    "plt.figure(figsize=(12, 6))\n",
    "xgb.plot_importance(xgb_model, max_num_features=15)\n",
    "plt.title(\"Feature Importance with Engineered Features\")\n",
    "plt.show()"
   ]
  },
  {
   "cell_type": "markdown",
   "metadata": {},
   "source": [
    "**Feature Selection**"
   ]
  },
  {
   "cell_type": "code",
   "execution_count": 22,
   "metadata": {},
   "outputs": [
    {
     "name": "stdout",
     "output_type": "stream",
     "text": [
      "Selected features: ['RM', 'LSTAT', 'PTRATIO', 'TAX', 'LSTAT_RM_INTERACTION', 'LSTAT_SQUARED']\n",
      "\n",
      "Reduced from 11 to 6 features.\n"
     ]
    }
   ],
   "source": [
    "from sklearn.feature_selection import SelectFromModel\n",
    "import numpy as np\n",
    "\n",
    "# Create a new XGBoost model WITHOUT early stopping for feature selection\n",
    "feature_selector_model = xgb.XGBRegressor(\n",
    "    **{k: v for k, v in xgb_model.get_params().items() \n",
    "       if k not in ['early_stopping_rounds', 'eval_set']}\n",
    ")\n",
    "\n",
    "# Fit the selector\n",
    "selector = SelectFromModel(\n",
    "    estimator=feature_selector_model,\n",
    "    threshold='median'\n",
    ").fit(X_train_new.values, y_train)\n",
    "\n",
    "# Get selected features\n",
    "selected_mask = selector.get_support()\n",
    "selected_features = X_train_new.columns[selected_mask]\n",
    "print(\"Selected features:\", list(selected_features))\n",
    "\n",
    "# Transform datasets\n",
    "X_train_selected = selector.transform(X_train_new.values)\n",
    "X_test_selected = selector.transform(X_test_new.values)\n",
    "\n",
    "print(f\"\\nReduced from {X_train_new.shape[1]} to {X_train_selected.shape[1]} features.\")"
   ]
  },
  {
   "cell_type": "markdown",
   "metadata": {},
   "source": [
    "**Retrain Final Model with Selected Features (With Early Stopping)**"
   ]
  },
  {
   "cell_type": "code",
   "execution_count": 23,
   "metadata": {},
   "outputs": [
    {
     "name": "stdout",
     "output_type": "stream",
     "text": [
      "[0]\tvalidation_0-rmse:6.59109\n",
      "[1]\tvalidation_0-rmse:6.09645\n",
      "[2]\tvalidation_0-rmse:5.66103\n",
      "[3]\tvalidation_0-rmse:5.32611\n",
      "[4]\tvalidation_0-rmse:4.97471\n",
      "[5]\tvalidation_0-rmse:4.68916\n",
      "[6]\tvalidation_0-rmse:4.43199\n",
      "[7]\tvalidation_0-rmse:4.21776\n",
      "[8]\tvalidation_0-rmse:3.99441\n",
      "[9]\tvalidation_0-rmse:3.84149\n",
      "[10]\tvalidation_0-rmse:3.68780\n",
      "[11]\tvalidation_0-rmse:3.58502\n",
      "[12]\tvalidation_0-rmse:3.48012\n",
      "[13]\tvalidation_0-rmse:3.40940\n",
      "[14]\tvalidation_0-rmse:3.35025\n",
      "[15]\tvalidation_0-rmse:3.30367\n",
      "[16]\tvalidation_0-rmse:3.25623\n",
      "[17]\tvalidation_0-rmse:3.21546\n",
      "[18]\tvalidation_0-rmse:3.18455\n",
      "[19]\tvalidation_0-rmse:3.15574\n",
      "[20]\tvalidation_0-rmse:3.13362\n",
      "[21]\tvalidation_0-rmse:3.12504\n",
      "[22]\tvalidation_0-rmse:3.10891\n",
      "[23]\tvalidation_0-rmse:3.08778\n",
      "[24]\tvalidation_0-rmse:3.07751\n",
      "[25]\tvalidation_0-rmse:3.07284\n",
      "[26]\tvalidation_0-rmse:3.06969\n",
      "[27]\tvalidation_0-rmse:3.06598\n",
      "[28]\tvalidation_0-rmse:3.05190\n",
      "[29]\tvalidation_0-rmse:3.03160\n",
      "[30]\tvalidation_0-rmse:3.02069\n",
      "[31]\tvalidation_0-rmse:3.02544\n",
      "[32]\tvalidation_0-rmse:3.02894\n",
      "[33]\tvalidation_0-rmse:3.02017\n",
      "[34]\tvalidation_0-rmse:3.02368\n",
      "[35]\tvalidation_0-rmse:3.02663\n",
      "[36]\tvalidation_0-rmse:3.02244\n",
      "[37]\tvalidation_0-rmse:3.02252\n",
      "[38]\tvalidation_0-rmse:3.01576\n",
      "[39]\tvalidation_0-rmse:3.02298\n",
      "[40]\tvalidation_0-rmse:3.01994\n",
      "[41]\tvalidation_0-rmse:3.02108\n",
      "[42]\tvalidation_0-rmse:3.01646\n",
      "[43]\tvalidation_0-rmse:3.01762\n",
      "[44]\tvalidation_0-rmse:3.01241\n",
      "[45]\tvalidation_0-rmse:3.01328\n",
      "[46]\tvalidation_0-rmse:3.00912\n",
      "[47]\tvalidation_0-rmse:3.00149\n",
      "[48]\tvalidation_0-rmse:3.00356\n",
      "[49]\tvalidation_0-rmse:3.00372\n",
      "[50]\tvalidation_0-rmse:3.00205\n",
      "[51]\tvalidation_0-rmse:3.00180\n",
      "[52]\tvalidation_0-rmse:2.99873\n",
      "[53]\tvalidation_0-rmse:2.99182\n",
      "[54]\tvalidation_0-rmse:2.99583\n",
      "[55]\tvalidation_0-rmse:2.99464\n",
      "[56]\tvalidation_0-rmse:2.99576\n",
      "[57]\tvalidation_0-rmse:2.98833\n",
      "[58]\tvalidation_0-rmse:2.99110\n",
      "[59]\tvalidation_0-rmse:2.98996\n",
      "[60]\tvalidation_0-rmse:2.98974\n",
      "[61]\tvalidation_0-rmse:2.99165\n",
      "[62]\tvalidation_0-rmse:2.98740\n",
      "[63]\tvalidation_0-rmse:2.98366\n",
      "[64]\tvalidation_0-rmse:2.98280\n",
      "[65]\tvalidation_0-rmse:2.98589\n",
      "[66]\tvalidation_0-rmse:2.98913\n",
      "[67]\tvalidation_0-rmse:2.99089\n",
      "[68]\tvalidation_0-rmse:2.99049\n",
      "[69]\tvalidation_0-rmse:2.98512\n",
      "[70]\tvalidation_0-rmse:2.98815\n",
      "[71]\tvalidation_0-rmse:2.98166\n",
      "[72]\tvalidation_0-rmse:2.99388\n",
      "[73]\tvalidation_0-rmse:2.98615\n",
      "[74]\tvalidation_0-rmse:2.98751\n",
      "[75]\tvalidation_0-rmse:2.98540\n",
      "[76]\tvalidation_0-rmse:2.99759\n",
      "[77]\tvalidation_0-rmse:2.99522\n",
      "[78]\tvalidation_0-rmse:2.99502\n",
      "[79]\tvalidation_0-rmse:2.98898\n",
      "[80]\tvalidation_0-rmse:2.98404\n",
      "Test RMSE with selected features: 2.9817\n"
     ]
    }
   ],
   "source": [
    "# Retrain with early stopping\n",
    "final_model = xgb.XGBRegressor(**xgb_model.get_params())  # Keep original params\n",
    "final_model.fit(\n",
    "    X_train_selected, y_train,\n",
    "    eval_set=[(X_test_selected, y_test)],\n",
    "    verbose=True\n",
    ")\n",
    "\n",
    "# Evaluate\n",
    "y_pred2 = final_model.predict(X_test_selected)\n",
    "rmse = root_mean_squared_error(y_test, y_pred2)\n",
    "print(f\"Test RMSE with selected features: {rmse:.4f}\")"
   ]
  },
  {
   "cell_type": "code",
   "execution_count": 24,
   "metadata": {},
   "outputs": [
    {
     "name": "stdout",
     "output_type": "stream",
     "text": [
      "\n",
      "Real MEDV vs Predicted MEDV\n",
      "      Real_MEDV  Predicted_MEDV_with_all_FE_features  \\\n",
      "0         24.0                            26.815523   \n",
      "2         34.7                            34.675591   \n",
      "9         18.9                            19.472656   \n",
      "11        18.9                            20.849352   \n",
      "18        20.2                            19.010042   \n",
      "..         ...                                  ...   \n",
      "491       13.6                            15.323967   \n",
      "496       19.7                            14.975777   \n",
      "497       18.3                            20.578796   \n",
      "500       16.8                            20.603016   \n",
      "501       22.4                            19.455746   \n",
      "\n",
      "     Predicted_MEDV_With_Selected_FE_features  \n",
      "0                                   27.752552  \n",
      "2                                   35.102020  \n",
      "9                                   19.990583  \n",
      "11                                  21.325897  \n",
      "18                                  17.312366  \n",
      "..                                        ...  \n",
      "491                                 15.409986  \n",
      "496                                 14.709931  \n",
      "497                                 20.577606  \n",
      "500                                 20.805479  \n",
      "501                                 19.245691  \n",
      "\n",
      "[102 rows x 3 columns]\n"
     ]
    }
   ],
   "source": [
    "# printing the predictions vs real target variable\n",
    "predictions = pd.DataFrame({'Real_MEDV': y_test,'Predicted_MEDV_with_all_FE_features': y_pred1,'Predicted_MEDV_With_Selected_FE_features': y_pred2}).sort_index()\n",
    "print(\"\\nReal MEDV vs Predicted MEDV\\n\", predictions)\n"
   ]
  },
  {
   "cell_type": "code",
   "execution_count": 25,
   "metadata": {},
   "outputs": [],
   "source": [
    "# Saving the files\n",
    "predictions.to_csv('../data/predictions.csv')\n",
    "importance.to_csv('../data/feature_importance.csv')"
   ]
  }
 ],
 "metadata": {
  "kernelspec": {
   "display_name": "base",
   "language": "python",
   "name": "python3"
  },
  "language_info": {
   "codemirror_mode": {
    "name": "ipython",
    "version": 3
   },
   "file_extension": ".py",
   "mimetype": "text/x-python",
   "name": "python",
   "nbconvert_exporter": "python",
   "pygments_lexer": "ipython3",
   "version": "3.12.7"
  }
 },
 "nbformat": 4,
 "nbformat_minor": 2
}
