{
 "cells": [
  {
   "cell_type": "markdown",
   "metadata": {},
   "source": [
    "### 3. Model Building and Training\n",
    "\n",
    "#### Task 3: Model Training"
   ]
  },
  {
   "cell_type": "markdown",
   "metadata": {},
   "source": [
    "**Loading processed dataset and selecting top features**"
   ]
  },
  {
   "cell_type": "code",
   "execution_count": 2,
   "metadata": {},
   "outputs": [
    {
     "name": "stdout",
     "output_type": "stream",
     "text": [
      "Selected Features: ['RM', 'LSTAT', 'PTRATIO', 'INDUS', 'TAX', 'RAD_4.0', 'CHAS']\n"
     ]
    }
   ],
   "source": [
    "# Load processed data\n",
    "import joblib\n",
    "data = joblib.load(\"../data/processed_data.pkl\")\n",
    "\n",
    "X_train, X_test = data['X_train'], data['X_test']\n",
    "y_train, y_test = data['y_train'], data['y_test']\n",
    "\n",
    "# Select top features from EDA wit two categorical feature (RM, LSTAT most correlated with MEDV)\n",
    "selected_features = ['RM', 'LSTAT', 'PTRATIO', 'INDUS', 'TAX', 'RAD_4.0', 'CHAS']\n",
    "X_train = X_train[selected_features]\n",
    "X_test = X_test[selected_features]\n",
    "\n",
    "print(\"Selected Features:\", selected_features)"
   ]
  },
  {
   "cell_type": "markdown",
   "metadata": {},
   "source": [
    "**Training a Linear Regression Model**"
   ]
  },
  {
   "cell_type": "code",
   "execution_count": 3,
   "metadata": {},
   "outputs": [
    {
     "name": "stdout",
     "output_type": "stream",
     "text": [
      "Linear Regression Results:\n",
      "- RMSE: 3.72\n",
      "- R²: 0.72\n"
     ]
    }
   ],
   "source": [
    "from sklearn.linear_model import LinearRegression\n",
    "from sklearn.metrics import root_mean_squared_error, r2_score\n",
    "\n",
    "# Initialize and train\n",
    "lr = LinearRegression()\n",
    "lr.fit(X_train, y_train)\n",
    "\n",
    "# Evaluate\n",
    "y_pred = lr.predict(X_test)\n",
    "print(\"Linear Regression Results:\")\n",
    "print(f\"- RMSE: {root_mean_squared_error(y_test, y_pred):.2f}\")\n",
    "print(f\"- R²: {r2_score(y_test, y_pred):.2f}\")"
   ]
  },
  {
   "cell_type": "markdown",
   "metadata": {},
   "source": [
    "**Hyperparameter Tuning (Ridge Regression)**"
   ]
  },
  {
   "cell_type": "code",
   "execution_count": 12,
   "metadata": {},
   "outputs": [
    {
     "name": "stdout",
     "output_type": "stream",
     "text": [
      "\n",
      "Ridge Regression Results:\n",
      "- Best alpha: 10\n",
      "- RMSE: 3.71\n"
     ]
    }
   ],
   "source": [
    "from sklearn.linear_model import Ridge\n",
    "from sklearn.model_selection import GridSearchCV\n",
    "from sklearn.metrics import root_mean_squared_error\n",
    "import numpy as np\n",
    "\n",
    "# Define the parameter grid for hyperparameter tuning\n",
    "param_grid = {'alpha': [0.01, 0.1, 1, 10, 100]}\n",
    "\n",
    "# Initialize the Ridge regression model\n",
    "ridge_model = Ridge()\n",
    "\n",
    "# Set up GridSearchCV with cross-validation\n",
    "ridge_grid_search = GridSearchCV(\n",
    "    estimator=ridge_model,\n",
    "    param_grid=param_grid,\n",
    "    cv=5,  # 5-fold cross-validation\n",
    "    scoring='neg_root_mean_squared_error',  # Scoring metric\n",
    "    return_train_score=True  # Optionally return training scores\n",
    ")\n",
    "\n",
    "# Fit the model with cross-validation\n",
    "ridge_grid_search.fit(X_train, y_train)\n",
    "\n",
    "# Retrieve the best model and its parameters\n",
    "best_ridge_model = ridge_grid_search.best_estimator_\n",
    "best_alpha = ridge_grid_search.best_params_['alpha']\n",
    "\n",
    "# Predict on the test set using the best model\n",
    "y_pred_ridge = best_ridge_model.predict(X_test)\n",
    "\n",
    "# Calculate the Root Mean Squared Error (RMSE)\n",
    "rmse = root_mean_squared_error(y_test, y_pred_ridge)\n",
    "\n",
    "# Print the results\n",
    "print(\"\\nRidge Regression Results:\")\n",
    "print(f\"- Best alpha: {best_alpha}\")\n",
    "print(f\"- RMSE: {rmse:.2f}\")"
   ]
  },
  {
   "cell_type": "markdown",
   "metadata": {},
   "source": [
    "**Hyperparameter Tuning (RandomForestRegressor)**"
   ]
  },
  {
   "cell_type": "code",
   "execution_count": 13,
   "metadata": {},
   "outputs": [
    {
     "name": "stdout",
     "output_type": "stream",
     "text": [
      "\n",
      "Random Forest Regression Results:\n",
      "- Best parameters: {'max_depth': 10, 'min_samples_leaf': 2, 'min_samples_split': 2, 'n_estimators': 200}\n",
      "- RMSE: 3.18\n"
     ]
    }
   ],
   "source": [
    "from sklearn.ensemble import RandomForestRegressor\n",
    "\n",
    "# Define the parameter grid for hyperparameter tuning\n",
    "param_grid = {\n",
    "    'n_estimators': [50, 100, 200],  # Number of trees in the forest\n",
    "    'max_depth': [None, 10, 20],  # Maximum depth of the tree\n",
    "    'min_samples_split': [2, 5],  # Minimum number of samples required to split an internal node\n",
    "    'min_samples_leaf': [1, 2]  # Minimum number of samples required at each leaf node\n",
    "}\n",
    "\n",
    "# Initialize the RandomForestRegressor model\n",
    "rf_model = RandomForestRegressor(random_state=42)\n",
    "\n",
    "# Set up GridSearchCV with cross-validation\n",
    "rf_grid_search = GridSearchCV(\n",
    "    estimator=rf_model,\n",
    "    param_grid=param_grid,\n",
    "    cv=5,  # 5-fold cross-validation\n",
    "    scoring='neg_root_mean_squared_error',  # Scoring metric\n",
    ")\n",
    "\n",
    "# Fit the model with cross-validation\n",
    "rf_grid_search.fit(X_train, y_train)\n",
    "\n",
    "# Retrieve the best model and its parameters\n",
    "best_rf_model = rf_grid_search.best_estimator_\n",
    "best_params = rf_grid_search.best_params_\n",
    "\n",
    "# Predict on the test set using the best model\n",
    "y_pred_rf = best_rf_model.predict(X_test)\n",
    "\n",
    "# Calculate the Root Mean Squared Error (RMSE)\n",
    "rmse = root_mean_squared_error(y_test, y_pred_rf)\n",
    "\n",
    "# Print the results\n",
    "print(\"\\nRandom Forest Regression Results:\")\n",
    "print(f\"- Best parameters: {best_params}\")\n",
    "print(f\"- RMSE: {rmse:.2f}\")"
   ]
  },
  {
   "cell_type": "markdown",
   "metadata": {},
   "source": [
    "**Hyperparameter Tuning (Gradiant Boosting)**"
   ]
  },
  {
   "cell_type": "code",
   "execution_count": 9,
   "metadata": {},
   "outputs": [
    {
     "name": "stdout",
     "output_type": "stream",
     "text": [
      "\n",
      "Random Forest Regression Results:\n",
      "- Best parameters: {'gamma': 0, 'learning_rate': 0.1, 'max_depth': 3, 'n_estimators': 100}\n",
      "- RMSE: 3.03\n"
     ]
    }
   ],
   "source": [
    "from xgboost import XGBRegressor\n",
    "\n",
    "# Define the parameter grid for hyperparameter tuning\n",
    "param_grid = {\n",
    "    'n_estimators': [100, 200],\n",
    "    'learning_rate': [0.01, 0.1],\n",
    "    'max_depth' : [3, 6],\n",
    "    'gamma': [0, 0.1] # Added to control overfitting\n",
    "}\n",
    "\n",
    "# Initialize the RandomForestRegressor model\n",
    "xgb_model = XGBRegressor(random_state=42, \n",
    "                         enable_categorical=True,\n",
    "                         early_stopping_rounds = 10,\n",
    "                         eval_metric = 'rmse')\n",
    "\n",
    "# Set up GridSearchCV with cross-validation\n",
    "xgb_grid_search = GridSearchCV(\n",
    "    estimator=xgb_model,\n",
    "    param_grid=param_grid,\n",
    "    cv=5,  # 5-fold cross-validation\n",
    "    scoring='neg_root_mean_squared_error',  # Scoring metric\n",
    "    n_jobs = -1 # Parallelize computation\n",
    ")\n",
    "\n",
    "# Fit the model with cross-validation\n",
    "xgb_grid_search.fit(X_train, y_train,\n",
    "                    eval_set = [(X_test, y_test)], # Valiation data for early stopping\n",
    "                    verbose = False\n",
    "                    )\n",
    "\n",
    "# Retrieve the best model and its parameters\n",
    "best_xgb_model = xgb_grid_search.best_estimator_\n",
    "best_params = xgb_grid_search.best_params_\n",
    "\n",
    "# Predict on the test set using the best model\n",
    "y_pred_xgb = best_xgb_model.predict(X_test)\n",
    "\n",
    "# Calculate the Root Mean Squared Error (RMSE)\n",
    "rmse = root_mean_squared_error(y_test, y_pred_xgb)\n",
    "\n",
    "# Print the results\n",
    "print(\"\\nRandom Forest Regression Results:\")\n",
    "print(f\"- Best parameters: {best_params}\")\n",
    "print(f\"- RMSE: {rmse:.2f}\")"
   ]
  },
  {
   "cell_type": "markdown",
   "metadata": {},
   "source": [
    "**Comparing Hyperparameter tuning models together**"
   ]
  },
  {
   "cell_type": "code",
   "execution_count": 10,
   "metadata": {},
   "outputs": [
    {
     "name": "stdout",
     "output_type": "stream",
     "text": [
      "          Model      RMSE        R²  \\\n",
      "2       XGBoost  3.032855  0.811994   \n",
      "1  RandomForest  3.180640  0.793225   \n",
      "0         Ridge  3.711583  0.718429   \n",
      "\n",
      "                                         Best Params  \n",
      "2  {'gamma': 0, 'learning_rate': 0.1, 'max_depth'...  \n",
      "1  {'max_depth': 10, 'min_samples_leaf': 2, 'min_...  \n",
      "0                                      {'alpha': 10}  \n"
     ]
    }
   ],
   "source": [
    "import pandas as pd\n",
    "\n",
    "models = {\n",
    "    'Ridge': ridge_grid_search,\n",
    "    'RandomForest': rf_grid_search,\n",
    "    'XGBoost': xgb_grid_search\n",
    "}\n",
    "\n",
    "results = []\n",
    "for name, model in models.items():\n",
    "    y_pred = model.predict(X_test)\n",
    "    results.append({\n",
    "        'Model': name,\n",
    "        'RMSE': root_mean_squared_error(y_test, y_pred),\n",
    "        'R²': r2_score(y_test, y_pred),\n",
    "        'Best Params': model.best_params_\n",
    "    })\n",
    "\n",
    "results_df = pd.DataFrame(results)\n",
    "print(results_df.sort_values('RMSE'))"
   ]
  },
  {
   "cell_type": "markdown",
   "metadata": {},
   "source": [
    "**Saving the best model**"
   ]
  },
  {
   "cell_type": "code",
   "execution_count": 11,
   "metadata": {},
   "outputs": [
    {
     "name": "stdout",
     "output_type": "stream",
     "text": [
      "\n",
      "Saved best model to ../models/best_model.pkl\n"
     ]
    }
   ],
   "source": [
    "# Save the best performing model\n",
    "joblib.dump(xgb_grid_search, \"../models/best_model.pkl\")\n",
    "print(\"\\nSaved best model to ../models/best_model.pkl\")"
   ]
  }
 ],
 "metadata": {
  "kernelspec": {
   "display_name": "base",
   "language": "python",
   "name": "python3"
  },
  "language_info": {
   "codemirror_mode": {
    "name": "ipython",
    "version": 3
   },
   "file_extension": ".py",
   "mimetype": "text/x-python",
   "name": "python",
   "nbconvert_exporter": "python",
   "pygments_lexer": "ipython3",
   "version": "3.12.7"
  }
 },
 "nbformat": 4,
 "nbformat_minor": 2
}
